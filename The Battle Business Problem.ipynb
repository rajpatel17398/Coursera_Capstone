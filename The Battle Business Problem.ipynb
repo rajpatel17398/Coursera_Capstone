{
    "cells": [
        {
            "metadata": {
                "collapsed": true
            },
            "cell_type": "markdown",
            "source": "# The Battle of Neighborhoods (Week 1)"
        },
        {
            "metadata": {},
            "cell_type": "markdown",
            "source": "<b><font size=5>Introduction</b>"
        },
        {
            "metadata": {},
            "cell_type": "markdown",
            "source": "In this project we will explore Toronto city's data."
        },
        {
            "metadata": {},
            "cell_type": "markdown",
            "source": "Here we will try finding if someone wants to open a new restaurant in the city which location is best suited for it keeping in mind the competitors and which income group of people will be attracted most to it based on the population of the neighbourhood."
        },
        {
            "metadata": {},
            "cell_type": "markdown",
            "source": "<b><font size=5>Business Problem:</b>"
        },
        {
            "metadata": {},
            "cell_type": "markdown",
            "source": "Toronto is the provincial capital of Ontario and the most populous city in Canada, with a population of 2,731,571 in 2016. Current to 2016, the Toronto census metropolitan area (CMA), of which the majority is within the Greater Toronto Area (GTA), held a population of 5,928,040, making it Canada's most populous CMA. Toronto is the fastest growing city in North America. and is the anchor of an urban agglomeration, known as the Golden Horseshoe in Southern Ontario, located on the northwestern shore of Lake Ontario."
        },
        {
            "metadata": {},
            "cell_type": "markdown",
            "source": "Toronto encompasses a geographical area formerly administered by many separate municipalities. These municipalities have each developed a distinct history and identity over the years, and their names remain in common use among Torontonians. Former municipalities include East York, Etobicoke, Forest Hill, Mimico, North York, Parkdale, Scarborough, Swansea, Weston and York. Throughout the city there exist hundreds of small neighbourhoods and some larger neighbourhoods covering a few square kilometres."
        },
        {
            "metadata": {},
            "cell_type": "markdown",
            "source": "Having such vast population and big geographical area, there also exists big competition between businesses. Therefore it became very challenging for stake holder or new business to decide which area they should start their business to get higher revenue with lowest possible competition."
        },
        {
            "metadata": {},
            "cell_type": "markdown",
            "source": "Target Audience: New Business who wants to open a restaurant in Toronto."
        },
        {
            "metadata": {},
            "cell_type": "markdown",
            "source": "This project try to solve the above problem by suggesting the Target Audience which are the best locality to open new restaurants and gaining maximum profits in Toronto."
        },
        {
            "metadata": {},
            "cell_type": "code",
            "source": "",
            "execution_count": null,
            "outputs": []
        }
    ],
    "metadata": {
        "kernelspec": {
            "name": "python3",
            "display_name": "Python 3.6",
            "language": "python"
        },
        "language_info": {
            "name": "python",
            "version": "3.6.9",
            "mimetype": "text/x-python",
            "codemirror_mode": {
                "name": "ipython",
                "version": 3
            },
            "pygments_lexer": "ipython3",
            "nbconvert_exporter": "python",
            "file_extension": ".py"
        }
    },
    "nbformat": 4,
    "nbformat_minor": 1
}